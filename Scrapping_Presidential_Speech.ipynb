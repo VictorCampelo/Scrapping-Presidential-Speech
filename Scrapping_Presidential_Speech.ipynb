{
  "nbformat": 4,
  "nbformat_minor": 0,
  "metadata": {
    "colab": {
      "name": "Scrapping_Presidential_Speech.ipynb",
      "provenance": [],
      "collapsed_sections": [],
      "mount_file_id": "161v2aD5Qi3XaA5zFj0Pioj1YlxfEkEZb",
      "authorship_tag": "ABX9TyO3ET3JaOK5oCVo14Hsw5JR",
      "include_colab_link": true
    },
    "kernelspec": {
      "name": "python3",
      "display_name": "Python 3"
    }
  },
  "cells": [
    {
      "cell_type": "markdown",
      "metadata": {
        "id": "view-in-github",
        "colab_type": "text"
      },
      "source": [
        "<a href=\"https://colab.research.google.com/github/VictorCampelo/Scrapping-Presidential-Speech/blob/master/Scrapping_Presidential_Speech.ipynb\" target=\"_parent\"><img src=\"https://colab.research.google.com/assets/colab-badge.svg\" alt=\"Open In Colab\"/></a>"
      ]
    },
    {
      "cell_type": "code",
      "metadata": {
        "id": "tj2nVs83-esb",
        "colab_type": "code",
        "colab": {}
      },
      "source": [
        "import pandas as pd\n",
        "import requests\n",
        "from bs4 import BeautifulSoup\n",
        "import re"
      ],
      "execution_count": null,
      "outputs": []
    },
    {
      "cell_type": "code",
      "metadata": {
        "id": "1xpJYZRC-vOg",
        "colab_type": "code",
        "colab": {
          "base_uri": "https://localhost:8080/",
          "height": 34
        },
        "outputId": "e689b26a-7f67-4b83-d058-a95633673a7e"
      },
      "source": [
        "urls = ['https://www.gov.br/planalto/pt-br/acompanhe-o-planalto/discursos']\n",
        "req = requests.get(urls[0])\n",
        "if req.status_code == 200:\n",
        "    print('Requisição bem sucedida!')"
      ],
      "execution_count": null,
      "outputs": [
        {
          "output_type": "stream",
          "text": [
            "Requisição bem sucedida!\n"
          ],
          "name": "stdout"
        }
      ]
    },
    {
      "cell_type": "code",
      "metadata": {
        "id": "YqnoI0qO-6Fx",
        "colab_type": "code",
        "colab": {
          "base_uri": "https://localhost:8080/",
          "height": 170
        },
        "outputId": "dd676b1d-8973-43a7-d162-31452a574259"
      },
      "source": [
        "for x in range(30, 270, 30):\n",
        "  urls.append('https://www.gov.br/planalto/pt-br/acompanhe-o-planalto/discursos?b_start:int={}'.format(x))\n",
        "urls"
      ],
      "execution_count": null,
      "outputs": [
        {
          "output_type": "execute_result",
          "data": {
            "text/plain": [
              "['https://www.gov.br/planalto/pt-br/acompanhe-o-planalto/discursos',\n",
              " 'https://www.gov.br/planalto/pt-br/acompanhe-o-planalto/discursos?b_start:int=30',\n",
              " 'https://www.gov.br/planalto/pt-br/acompanhe-o-planalto/discursos?b_start:int=60',\n",
              " 'https://www.gov.br/planalto/pt-br/acompanhe-o-planalto/discursos?b_start:int=90',\n",
              " 'https://www.gov.br/planalto/pt-br/acompanhe-o-planalto/discursos?b_start:int=120',\n",
              " 'https://www.gov.br/planalto/pt-br/acompanhe-o-planalto/discursos?b_start:int=150',\n",
              " 'https://www.gov.br/planalto/pt-br/acompanhe-o-planalto/discursos?b_start:int=180',\n",
              " 'https://www.gov.br/planalto/pt-br/acompanhe-o-planalto/discursos?b_start:int=210',\n",
              " 'https://www.gov.br/planalto/pt-br/acompanhe-o-planalto/discursos?b_start:int=240']"
            ]
          },
          "metadata": {
            "tags": []
          },
          "execution_count": 4
        }
      ]
    },
    {
      "cell_type": "code",
      "metadata": {
        "id": "uOIEmSmj--0d",
        "colab_type": "code",
        "colab": {
          "base_uri": "https://localhost:8080/",
          "height": 187
        },
        "outputId": "727f4402-242f-461c-a5a9-821ab69a7e9d"
      },
      "source": [
        "articles_url = []\n",
        "for url in urls:\n",
        "  req = requests.get(url)\n",
        "  if req.status_code == 200:\n",
        "      print('Requisição bem sucedida!')\n",
        "      content = req.content\n",
        "      soup = BeautifulSoup(content, 'html.parser')\n",
        "      [articles_url.append(x.div.a.get('href')) for x in soup.findAll(\"article\", class_ = \"tileItem visualIEFloatFix tile-document\")]\n",
        "print(str(len(articles_url)) + \" fetched article URLs\")"
      ],
      "execution_count": null,
      "outputs": [
        {
          "output_type": "stream",
          "text": [
            "Requisição bem sucedida!\n",
            "Requisição bem sucedida!\n",
            "Requisição bem sucedida!\n",
            "Requisição bem sucedida!\n",
            "Requisição bem sucedida!\n",
            "Requisição bem sucedida!\n",
            "Requisição bem sucedida!\n",
            "Requisição bem sucedida!\n",
            "Requisição bem sucedida!\n",
            "261 fetched article URLs\n"
          ],
          "name": "stdout"
        }
      ]
    },
    {
      "cell_type": "code",
      "metadata": {
        "id": "d1PlS2eYANYC",
        "colab_type": "code",
        "colab": {
          "base_uri": "https://localhost:8080/",
          "height": 122
        },
        "outputId": "c1193ca1-aa6c-4aea-d382-e642dd24cc06"
      },
      "source": [
        "articles_url[:5]"
      ],
      "execution_count": null,
      "outputs": [
        {
          "output_type": "execute_result",
          "data": {
            "text/plain": [
              "['https://www.gov.br/planalto/pt-br/acompanhe-o-planalto/discursos/2020/discurso-do-presidente-da-republica-jair-bolsonaro-durante-solenidade-de-sancao-de-medidas-provisorias-de-facilitacao-de-acesso-ao-credito-palacio-do-planalto',\n",
              " 'https://www.gov.br/planalto/pt-br/acompanhe-o-planalto/discursos/2020/discurso-do-presidente-da-republica-jair-bolsonaro-durante-a-inauguracao-da-estacao-radar-de-corumba-corumba-ms',\n",
              " 'https://www.gov.br/planalto/pt-br/acompanhe-o-planalto/discursos/2020/discurso-do-presidente-da-republica-jair-bolsonaro-durante-a-inauguracao-da-usina-termoeletrica-porto-de-sergipe-i-aracaju-se',\n",
              " 'https://www.gov.br/planalto/pt-br/acompanhe-o-planalto/discursos/2020/discurso-do-presidente-da-republica-jair-bolsonaro-durante-cerimonia-de-brevetacao-dos-novos-paraquedistas-rio-de-janeiro-rj',\n",
              " 'https://www.gov.br/planalto/pt-br/acompanhe-o-planalto/discursos/2020/discurso-do-presidente-da-republica-jair-bolsonaro-durante-solenidade-de-passagem-do-comando-militar-do-leste-rio-de-janeiro-rj']"
            ]
          },
          "metadata": {
            "tags": []
          },
          "execution_count": 6
        }
      ]
    },
    {
      "cell_type": "code",
      "metadata": {
        "id": "WuUNeMvlAuXT",
        "colab_type": "code",
        "colab": {}
      },
      "source": [
        "dict_df = {\"tittle\":[], \"date\":[], \"speech\":[]}\n",
        "for article in articles_url:  \n",
        "  req = requests.get(article)\n",
        "  if req.status_code == 200:\n",
        "      content = req.content\n",
        "      soup = BeautifulSoup(content, 'html.parser')\n",
        "      tittle = soup.find('h1', class_=\"documentFirstHeading\")\n",
        "      speech = soup.find('div',id=\"parent-fieldname-text\").findAll('p')\n",
        "      date = soup.find('span', class_=\"value\")\n",
        "      text = \"\"\n",
        "      first = True\n",
        "      data = \"\"\n",
        "      for x in speech:\n",
        "        # if first:\n",
        "        #   _, data = x.text.split(',')\n",
        "        #   first = False\n",
        "        #   continue\n",
        "        text += x.text+' '\n",
        "      dict_df[\"tittle\"].append(tittle.text)\n",
        "      dict_df[\"date\"].append(date.text)\n",
        "      dict_df[\"speech\"].append(text)"
      ],
      "execution_count": null,
      "outputs": []
    },
    {
      "cell_type": "code",
      "metadata": {
        "id": "H9d-FekMBpVt",
        "colab_type": "code",
        "colab": {}
      },
      "source": [
        "import pandas as pd\n",
        "\n",
        "df = pd.DataFrame({'tittle':dict_df[\"tittle\"], 'date':dict_df[\"date\"], 'speech':dict_df[\"speech\"]})"
      ],
      "execution_count": null,
      "outputs": []
    },
    {
      "cell_type": "code",
      "metadata": {
        "id": "kLEsa6tAO3H5",
        "colab_type": "code",
        "colab": {
          "base_uri": "https://localhost:8080/",
          "height": 419
        },
        "outputId": "ca69e3a6-189c-482f-c58a-754cebaa50dc"
      },
      "source": [
        "df"
      ],
      "execution_count": null,
      "outputs": [
        {
          "output_type": "execute_result",
          "data": {
            "text/html": [
              "<div>\n",
              "<style scoped>\n",
              "    .dataframe tbody tr th:only-of-type {\n",
              "        vertical-align: middle;\n",
              "    }\n",
              "\n",
              "    .dataframe tbody tr th {\n",
              "        vertical-align: top;\n",
              "    }\n",
              "\n",
              "    .dataframe thead th {\n",
              "        text-align: right;\n",
              "    }\n",
              "</style>\n",
              "<table border=\"1\" class=\"dataframe\">\n",
              "  <thead>\n",
              "    <tr style=\"text-align: right;\">\n",
              "      <th></th>\n",
              "      <th>tittle</th>\n",
              "      <th>date</th>\n",
              "      <th>speech</th>\n",
              "    </tr>\n",
              "  </thead>\n",
              "  <tbody>\n",
              "    <tr>\n",
              "      <th>0</th>\n",
              "      <td>Discurso do Presidente da República, Jair Bols...</td>\n",
              "      <td>19/08/2020 18h53</td>\n",
              "      <td>Palácio do Planalto, 19 de agosto de 2020     ...</td>\n",
              "    </tr>\n",
              "    <tr>\n",
              "      <th>1</th>\n",
              "      <td>Discurso do Presidente da República, Jair Bols...</td>\n",
              "      <td>18/08/2020 14h49</td>\n",
              "      <td>Corumbá/MS, 18 de agosto de 2020   Obrigado!  ...</td>\n",
              "    </tr>\n",
              "    <tr>\n",
              "      <th>2</th>\n",
              "      <td>Discurso do Presidente da República, Jair Bols...</td>\n",
              "      <td>17/08/2020 14h55</td>\n",
              "      <td>Aracaju/SE, 17 de agosto de 2020  Duas grandes...</td>\n",
              "    </tr>\n",
              "    <tr>\n",
              "      <th>3</th>\n",
              "      <td>Discurso do Presidente da República, Jair Bols...</td>\n",
              "      <td>15/08/2020 14h53</td>\n",
              "      <td>Rio de Janeiro-RJ, 15 de agosto de 2020      N...</td>\n",
              "    </tr>\n",
              "    <tr>\n",
              "      <th>4</th>\n",
              "      <td>Discurso do Presidente da República, Jair Bols...</td>\n",
              "      <td>14/08/2020 16h48</td>\n",
              "      <td>Senhor ministro da Defesa, general Fernan...</td>\n",
              "    </tr>\n",
              "    <tr>\n",
              "      <th>...</th>\n",
              "      <td>...</td>\n",
              "      <td>...</td>\n",
              "      <td>...</td>\n",
              "    </tr>\n",
              "    <tr>\n",
              "      <th>256</th>\n",
              "      <td>Discurso do Presidente da República, Jair Bols...</td>\n",
              "      <td>15/01/2019 12h10</td>\n",
              "      <td>Brasília/DF, 15 de janeiro de 2019   Como o po...</td>\n",
              "    </tr>\n",
              "    <tr>\n",
              "      <th>257</th>\n",
              "      <td>Discurso do Presidente da República, Jair Bols...</td>\n",
              "      <td>07/01/2019 12h20</td>\n",
              "      <td>Brasília-DF, 07 de janeiro de 2019   Senhor vi...</td>\n",
              "    </tr>\n",
              "    <tr>\n",
              "      <th>258</th>\n",
              "      <td>Discurso do Presidente da República, Jair Bols...</td>\n",
              "      <td>02/01/2019 17h21</td>\n",
              "      <td>Brasília-DF, 02 de janeiro de 2019            ...</td>\n",
              "    </tr>\n",
              "    <tr>\n",
              "      <th>259</th>\n",
              "      <td>Discurso do Presidente da República, Jair Bols...</td>\n",
              "      <td>01/01/2019 16h45</td>\n",
              "      <td>Meu prezado general,          ...</td>\n",
              "    </tr>\n",
              "    <tr>\n",
              "      <th>260</th>\n",
              "      <td>Discurso do Presidente da República, Jair Bols...</td>\n",
              "      <td>01/01/2019 15h10</td>\n",
              "      <td>Congresso Nacional, 01 de janeiro de 2019   Ex...</td>\n",
              "    </tr>\n",
              "  </tbody>\n",
              "</table>\n",
              "<p>261 rows × 3 columns</p>\n",
              "</div>"
            ],
            "text/plain": [
              "                                                tittle  ...                                             speech\n",
              "0    Discurso do Presidente da República, Jair Bols...  ...  Palácio do Planalto, 19 de agosto de 2020     ...\n",
              "1    Discurso do Presidente da República, Jair Bols...  ...  Corumbá/MS, 18 de agosto de 2020   Obrigado!  ...\n",
              "2    Discurso do Presidente da República, Jair Bols...  ...  Aracaju/SE, 17 de agosto de 2020  Duas grandes...\n",
              "3    Discurso do Presidente da República, Jair Bols...  ...  Rio de Janeiro-RJ, 15 de agosto de 2020      N...\n",
              "4    Discurso do Presidente da República, Jair Bols...  ...       Senhor ministro da Defesa, general Fernan...\n",
              "..                                                 ...  ...                                                ...\n",
              "256  Discurso do Presidente da República, Jair Bols...  ...  Brasília/DF, 15 de janeiro de 2019   Como o po...\n",
              "257  Discurso do Presidente da República, Jair Bols...  ...  Brasília-DF, 07 de janeiro de 2019   Senhor vi...\n",
              "258  Discurso do Presidente da República, Jair Bols...  ...  Brasília-DF, 02 de janeiro de 2019            ...\n",
              "259  Discurso do Presidente da República, Jair Bols...  ...                  Meu prezado general,          ...\n",
              "260  Discurso do Presidente da República, Jair Bols...  ...  Congresso Nacional, 01 de janeiro de 2019   Ex...\n",
              "\n",
              "[261 rows x 3 columns]"
            ]
          },
          "metadata": {
            "tags": []
          },
          "execution_count": 28
        }
      ]
    },
    {
      "cell_type": "code",
      "metadata": {
        "id": "PLHw-wI4PW_N",
        "colab_type": "code",
        "colab": {}
      },
      "source": [
        "df.to_csv('presidential_speech.csv')"
      ],
      "execution_count": null,
      "outputs": []
    },
    {
      "cell_type": "code",
      "metadata": {
        "id": "QRsi2uZIY74P",
        "colab_type": "code",
        "colab": {}
      },
      "source": [
        "df[['date','hour']] = df.date.str.split(\" \",expand=True)"
      ],
      "execution_count": null,
      "outputs": []
    },
    {
      "cell_type": "code",
      "metadata": {
        "id": "PfZnJHMhds-1",
        "colab_type": "code",
        "colab": {
          "base_uri": "https://localhost:8080/",
          "height": 419
        },
        "outputId": "878f2fd8-ec00-478f-af12-c7ab45d33e94"
      },
      "source": [
        "df"
      ],
      "execution_count": null,
      "outputs": [
        {
          "output_type": "execute_result",
          "data": {
            "text/html": [
              "<div>\n",
              "<style scoped>\n",
              "    .dataframe tbody tr th:only-of-type {\n",
              "        vertical-align: middle;\n",
              "    }\n",
              "\n",
              "    .dataframe tbody tr th {\n",
              "        vertical-align: top;\n",
              "    }\n",
              "\n",
              "    .dataframe thead th {\n",
              "        text-align: right;\n",
              "    }\n",
              "</style>\n",
              "<table border=\"1\" class=\"dataframe\">\n",
              "  <thead>\n",
              "    <tr style=\"text-align: right;\">\n",
              "      <th></th>\n",
              "      <th>tittle</th>\n",
              "      <th>date</th>\n",
              "      <th>speech</th>\n",
              "      <th>hour</th>\n",
              "    </tr>\n",
              "  </thead>\n",
              "  <tbody>\n",
              "    <tr>\n",
              "      <th>0</th>\n",
              "      <td>Discurso do Presidente da República, Jair Bols...</td>\n",
              "      <td>19/08/2020</td>\n",
              "      <td>Palácio do Planalto, 19 de agosto de 2020     ...</td>\n",
              "      <td>18h53</td>\n",
              "    </tr>\n",
              "    <tr>\n",
              "      <th>1</th>\n",
              "      <td>Discurso do Presidente da República, Jair Bols...</td>\n",
              "      <td>18/08/2020</td>\n",
              "      <td>Corumbá/MS, 18 de agosto de 2020   Obrigado!  ...</td>\n",
              "      <td>14h49</td>\n",
              "    </tr>\n",
              "    <tr>\n",
              "      <th>2</th>\n",
              "      <td>Discurso do Presidente da República, Jair Bols...</td>\n",
              "      <td>17/08/2020</td>\n",
              "      <td>Aracaju/SE, 17 de agosto de 2020  Duas grandes...</td>\n",
              "      <td>14h55</td>\n",
              "    </tr>\n",
              "    <tr>\n",
              "      <th>3</th>\n",
              "      <td>Discurso do Presidente da República, Jair Bols...</td>\n",
              "      <td>15/08/2020</td>\n",
              "      <td>Rio de Janeiro-RJ, 15 de agosto de 2020      N...</td>\n",
              "      <td>14h53</td>\n",
              "    </tr>\n",
              "    <tr>\n",
              "      <th>4</th>\n",
              "      <td>Discurso do Presidente da República, Jair Bols...</td>\n",
              "      <td>14/08/2020</td>\n",
              "      <td>Senhor ministro da Defesa, general Fernan...</td>\n",
              "      <td>16h48</td>\n",
              "    </tr>\n",
              "    <tr>\n",
              "      <th>...</th>\n",
              "      <td>...</td>\n",
              "      <td>...</td>\n",
              "      <td>...</td>\n",
              "      <td>...</td>\n",
              "    </tr>\n",
              "    <tr>\n",
              "      <th>256</th>\n",
              "      <td>Discurso do Presidente da República, Jair Bols...</td>\n",
              "      <td>15/01/2019</td>\n",
              "      <td>Brasília/DF, 15 de janeiro de 2019   Como o po...</td>\n",
              "      <td>12h10</td>\n",
              "    </tr>\n",
              "    <tr>\n",
              "      <th>257</th>\n",
              "      <td>Discurso do Presidente da República, Jair Bols...</td>\n",
              "      <td>07/01/2019</td>\n",
              "      <td>Brasília-DF, 07 de janeiro de 2019   Senhor vi...</td>\n",
              "      <td>12h20</td>\n",
              "    </tr>\n",
              "    <tr>\n",
              "      <th>258</th>\n",
              "      <td>Discurso do Presidente da República, Jair Bols...</td>\n",
              "      <td>02/01/2019</td>\n",
              "      <td>Brasília-DF, 02 de janeiro de 2019            ...</td>\n",
              "      <td>17h21</td>\n",
              "    </tr>\n",
              "    <tr>\n",
              "      <th>259</th>\n",
              "      <td>Discurso do Presidente da República, Jair Bols...</td>\n",
              "      <td>01/01/2019</td>\n",
              "      <td>Meu prezado general,          ...</td>\n",
              "      <td>16h45</td>\n",
              "    </tr>\n",
              "    <tr>\n",
              "      <th>260</th>\n",
              "      <td>Discurso do Presidente da República, Jair Bols...</td>\n",
              "      <td>01/01/2019</td>\n",
              "      <td>Congresso Nacional, 01 de janeiro de 2019   Ex...</td>\n",
              "      <td>15h10</td>\n",
              "    </tr>\n",
              "  </tbody>\n",
              "</table>\n",
              "<p>261 rows × 4 columns</p>\n",
              "</div>"
            ],
            "text/plain": [
              "                                                tittle  ...   hour\n",
              "0    Discurso do Presidente da República, Jair Bols...  ...  18h53\n",
              "1    Discurso do Presidente da República, Jair Bols...  ...  14h49\n",
              "2    Discurso do Presidente da República, Jair Bols...  ...  14h55\n",
              "3    Discurso do Presidente da República, Jair Bols...  ...  14h53\n",
              "4    Discurso do Presidente da República, Jair Bols...  ...  16h48\n",
              "..                                                 ...  ...    ...\n",
              "256  Discurso do Presidente da República, Jair Bols...  ...  12h10\n",
              "257  Discurso do Presidente da República, Jair Bols...  ...  12h20\n",
              "258  Discurso do Presidente da República, Jair Bols...  ...  17h21\n",
              "259  Discurso do Presidente da República, Jair Bols...  ...  16h45\n",
              "260  Discurso do Presidente da República, Jair Bols...  ...  15h10\n",
              "\n",
              "[261 rows x 4 columns]"
            ]
          },
          "metadata": {
            "tags": []
          },
          "execution_count": 56
        }
      ]
    },
    {
      "cell_type": "code",
      "metadata": {
        "id": "juRlTNlWeEJ_",
        "colab_type": "code",
        "colab": {}
      },
      "source": [
        "import datetime\n",
        "days = []\n",
        "months = []\n",
        "years = []\n",
        "for date in  df.date.values:\n",
        "  dt = datetime.datetime.strptime(date, \"%d/%m/%Y\")\n",
        "  days.append(dt.day)\n",
        "  months.append(dt.month)\n",
        "  years.append(dt.year)\n",
        "df['day'] = days\n",
        "df['month'] = months\n",
        "df['year'] = years"
      ],
      "execution_count": null,
      "outputs": []
    },
    {
      "cell_type": "code",
      "metadata": {
        "id": "iXE2rURYfs_Q",
        "colab_type": "code",
        "colab": {}
      },
      "source": [
        "df.drop(columns=['date'], inplace=True)"
      ],
      "execution_count": null,
      "outputs": []
    },
    {
      "cell_type": "code",
      "metadata": {
        "id": "LVL-s5JggUpn",
        "colab_type": "code",
        "colab": {
          "base_uri": "https://localhost:8080/",
          "height": 419
        },
        "outputId": "ae684a11-1d45-4d0a-a5af-74fe610400a1"
      },
      "source": [
        "df"
      ],
      "execution_count": null,
      "outputs": [
        {
          "output_type": "execute_result",
          "data": {
            "text/html": [
              "<div>\n",
              "<style scoped>\n",
              "    .dataframe tbody tr th:only-of-type {\n",
              "        vertical-align: middle;\n",
              "    }\n",
              "\n",
              "    .dataframe tbody tr th {\n",
              "        vertical-align: top;\n",
              "    }\n",
              "\n",
              "    .dataframe thead th {\n",
              "        text-align: right;\n",
              "    }\n",
              "</style>\n",
              "<table border=\"1\" class=\"dataframe\">\n",
              "  <thead>\n",
              "    <tr style=\"text-align: right;\">\n",
              "      <th></th>\n",
              "      <th>tittle</th>\n",
              "      <th>speech</th>\n",
              "      <th>hour</th>\n",
              "      <th>day</th>\n",
              "      <th>month</th>\n",
              "      <th>year</th>\n",
              "    </tr>\n",
              "  </thead>\n",
              "  <tbody>\n",
              "    <tr>\n",
              "      <th>0</th>\n",
              "      <td>Discurso do Presidente da República, Jair Bols...</td>\n",
              "      <td>Palácio do Planalto, 19 de agosto de 2020     ...</td>\n",
              "      <td>18h53</td>\n",
              "      <td>19</td>\n",
              "      <td>8</td>\n",
              "      <td>2020</td>\n",
              "    </tr>\n",
              "    <tr>\n",
              "      <th>1</th>\n",
              "      <td>Discurso do Presidente da República, Jair Bols...</td>\n",
              "      <td>Corumbá/MS, 18 de agosto de 2020   Obrigado!  ...</td>\n",
              "      <td>14h49</td>\n",
              "      <td>18</td>\n",
              "      <td>8</td>\n",
              "      <td>2020</td>\n",
              "    </tr>\n",
              "    <tr>\n",
              "      <th>2</th>\n",
              "      <td>Discurso do Presidente da República, Jair Bols...</td>\n",
              "      <td>Aracaju/SE, 17 de agosto de 2020  Duas grandes...</td>\n",
              "      <td>14h55</td>\n",
              "      <td>17</td>\n",
              "      <td>8</td>\n",
              "      <td>2020</td>\n",
              "    </tr>\n",
              "    <tr>\n",
              "      <th>3</th>\n",
              "      <td>Discurso do Presidente da República, Jair Bols...</td>\n",
              "      <td>Rio de Janeiro-RJ, 15 de agosto de 2020      N...</td>\n",
              "      <td>14h53</td>\n",
              "      <td>15</td>\n",
              "      <td>8</td>\n",
              "      <td>2020</td>\n",
              "    </tr>\n",
              "    <tr>\n",
              "      <th>4</th>\n",
              "      <td>Discurso do Presidente da República, Jair Bols...</td>\n",
              "      <td>Senhor ministro da Defesa, general Fernan...</td>\n",
              "      <td>16h48</td>\n",
              "      <td>14</td>\n",
              "      <td>8</td>\n",
              "      <td>2020</td>\n",
              "    </tr>\n",
              "    <tr>\n",
              "      <th>...</th>\n",
              "      <td>...</td>\n",
              "      <td>...</td>\n",
              "      <td>...</td>\n",
              "      <td>...</td>\n",
              "      <td>...</td>\n",
              "      <td>...</td>\n",
              "    </tr>\n",
              "    <tr>\n",
              "      <th>256</th>\n",
              "      <td>Discurso do Presidente da República, Jair Bols...</td>\n",
              "      <td>Brasília/DF, 15 de janeiro de 2019   Como o po...</td>\n",
              "      <td>12h10</td>\n",
              "      <td>15</td>\n",
              "      <td>1</td>\n",
              "      <td>2019</td>\n",
              "    </tr>\n",
              "    <tr>\n",
              "      <th>257</th>\n",
              "      <td>Discurso do Presidente da República, Jair Bols...</td>\n",
              "      <td>Brasília-DF, 07 de janeiro de 2019   Senhor vi...</td>\n",
              "      <td>12h20</td>\n",
              "      <td>7</td>\n",
              "      <td>1</td>\n",
              "      <td>2019</td>\n",
              "    </tr>\n",
              "    <tr>\n",
              "      <th>258</th>\n",
              "      <td>Discurso do Presidente da República, Jair Bols...</td>\n",
              "      <td>Brasília-DF, 02 de janeiro de 2019            ...</td>\n",
              "      <td>17h21</td>\n",
              "      <td>2</td>\n",
              "      <td>1</td>\n",
              "      <td>2019</td>\n",
              "    </tr>\n",
              "    <tr>\n",
              "      <th>259</th>\n",
              "      <td>Discurso do Presidente da República, Jair Bols...</td>\n",
              "      <td>Meu prezado general,          ...</td>\n",
              "      <td>16h45</td>\n",
              "      <td>1</td>\n",
              "      <td>1</td>\n",
              "      <td>2019</td>\n",
              "    </tr>\n",
              "    <tr>\n",
              "      <th>260</th>\n",
              "      <td>Discurso do Presidente da República, Jair Bols...</td>\n",
              "      <td>Congresso Nacional, 01 de janeiro de 2019   Ex...</td>\n",
              "      <td>15h10</td>\n",
              "      <td>1</td>\n",
              "      <td>1</td>\n",
              "      <td>2019</td>\n",
              "    </tr>\n",
              "  </tbody>\n",
              "</table>\n",
              "<p>261 rows × 6 columns</p>\n",
              "</div>"
            ],
            "text/plain": [
              "                                                tittle  ...  year\n",
              "0    Discurso do Presidente da República, Jair Bols...  ...  2020\n",
              "1    Discurso do Presidente da República, Jair Bols...  ...  2020\n",
              "2    Discurso do Presidente da República, Jair Bols...  ...  2020\n",
              "3    Discurso do Presidente da República, Jair Bols...  ...  2020\n",
              "4    Discurso do Presidente da República, Jair Bols...  ...  2020\n",
              "..                                                 ...  ...   ...\n",
              "256  Discurso do Presidente da República, Jair Bols...  ...  2019\n",
              "257  Discurso do Presidente da República, Jair Bols...  ...  2019\n",
              "258  Discurso do Presidente da República, Jair Bols...  ...  2019\n",
              "259  Discurso do Presidente da República, Jair Bols...  ...  2019\n",
              "260  Discurso do Presidente da República, Jair Bols...  ...  2019\n",
              "\n",
              "[261 rows x 6 columns]"
            ]
          },
          "metadata": {
            "tags": []
          },
          "execution_count": 62
        }
      ]
    },
    {
      "cell_type": "code",
      "metadata": {
        "id": "k0r7cX7tgVW_",
        "colab_type": "code",
        "colab": {}
      },
      "source": [
        ""
      ],
      "execution_count": null,
      "outputs": []
    }
  ]
}